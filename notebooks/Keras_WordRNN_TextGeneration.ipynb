{
 "cells": [
  {
   "cell_type": "code",
   "execution_count": 40,
   "metadata": {},
   "outputs": [],
   "source": [
    "from pathlib import Path\n",
    "\n",
    "import numpy as np\n",
    "import nltk\n",
    "from keras.models import Sequential\n",
    "from keras.layers import Dense, LSTM, Dropout\n",
    "from gensim.models.word2vec import Word2Vec"
   ]
  },
  {
   "cell_type": "markdown",
   "metadata": {},
   "source": [
    "# 数据读取"
   ]
  },
  {
   "cell_type": "code",
   "execution_count": 41,
   "metadata": {},
   "outputs": [
    {
     "name": "stdout",
     "output_type": "stream",
     "text": [
      "Sentence Sample:\n",
      "it was after the surrender of the confederate army, that, with other\n",
      "southern officers, he served under maximilian in mexico; in egypt, and\n",
      "in france.\n"
     ]
    }
   ],
   "source": [
    "data_path = Path('/media/bnu/data/nlp-practice/text-generation/Winston_Churchil.txt')\n",
    "with open(data_path) as f:\n",
    "    raw_text = f.read()\n",
    "raw_text = raw_text.lower()\n",
    "\n",
    "sentences = nltk.sent_tokenize(raw_text)\n",
    "print('Sentence Sample:')\n",
    "print(sentences[20])"
   ]
  },
  {
   "cell_type": "code",
   "execution_count": 42,
   "metadata": {},
   "outputs": [
    {
     "name": "stdout",
     "output_type": "stream",
     "text": [
      "Corpus Sample:\n",
      "['it', 'was', 'after', 'the', 'surrender', 'of', 'the', 'confederate', 'army', ',', 'that', ',', 'with', 'other', 'southern', 'officers', ',', 'he', 'served', 'under', 'maximilian', 'in', 'mexico', ';', 'in', 'egypt', ',', 'and', 'in', 'france', '.']\n",
      "Corpus Length: 1792\n"
     ]
    }
   ],
   "source": [
    "corpus = [nltk.word_tokenize(s) for s in sentences]\n",
    "print('Corpus Sample:')\n",
    "print(corpus[20])\n",
    "print('Corpus Length:', len(corpus))"
   ]
  },
  {
   "cell_type": "markdown",
   "metadata": {},
   "source": [
    "# 生成Word2Vec词向量"
   ]
  },
  {
   "cell_type": "code",
   "execution_count": 43,
   "metadata": {},
   "outputs": [],
   "source": [
    "w2v = Word2Vec(corpus, \n",
    "               size=128,     # 词向量的维度\n",
    "               window=5,     # 上下文的最大距离\n",
    "               min_count=2,  # 最小词频, 过滤低频词\n",
    "               workers=4     # 并行数\n",
    ")"
   ]
  },
  {
   "cell_type": "code",
   "execution_count": 44,
   "metadata": {
    "scrolled": false
   },
   "outputs": [
    {
     "name": "stdout",
     "output_type": "stream",
     "text": [
      "Word2Vec Sample:\n",
      "[-0.0228541  -0.00161459 -0.01522535  0.01911901  0.04889536]\n"
     ]
    }
   ],
   "source": [
    "print('Word2Vec Sample:')\n",
    "print(w2v.wv['france'][:5])"
   ]
  },
  {
   "cell_type": "markdown",
   "metadata": {},
   "source": [
    "# 构造训练集"
   ]
  },
  {
   "cell_type": "code",
   "execution_count": 45,
   "metadata": {},
   "outputs": [
    {
     "name": "stdout",
     "output_type": "stream",
     "text": [
      "Raw Data Length: 55562\n",
      "Filter Data Length: 51876\n"
     ]
    }
   ],
   "source": [
    "raw_data = [w for s in corpus for w in s]\n",
    "print('Raw Data Length:', len(raw_data))\n",
    "\n",
    "# 过滤掉不在word2vec中的低频词\n",
    "filter_data = []\n",
    "for w in raw_data:\n",
    "    if w in w2v.wv.vocab:\n",
    "        filter_data.append(w)\n",
    "print('Filter Data Length:', len(filter_data))"
   ]
  },
  {
   "cell_type": "code",
   "execution_count": 46,
   "metadata": {},
   "outputs": [
    {
     "name": "stdout",
     "output_type": "stream",
     "text": [
      "X Train Shape: (51866, 10, 128)\n",
      "Y Train Shape: (51866, 128)\n"
     ]
    }
   ],
   "source": [
    "sequence_length = 10\n",
    "\n",
    "x_train, y_train = [], []\n",
    "for i in range(len(filter_data) - sequence_length):\n",
    "    x_temp = filter_data[i: i+sequence_length]\n",
    "    y_temp = filter_data[i+sequence_length]\n",
    "    x_train.append([w2v.wv[w] for w in x_temp])\n",
    "    y_train.append(w2v.wv[y_temp])\n",
    "    \n",
    "x_train = np.reshape(x_train, (-1, sequence_length, 128))\n",
    "y_train = np.reshape(y_train, (-1, 128))\n",
    "print('X Train Shape:', x_train.shape)\n",
    "print('Y Train Shape:', y_train.shape)"
   ]
  },
  {
   "cell_type": "markdown",
   "metadata": {},
   "source": [
    "# 构建和训练模型"
   ]
  },
  {
   "cell_type": "code",
   "execution_count": 8,
   "metadata": {},
   "outputs": [],
   "source": [
    "model = Sequential()\n",
    "model.add(LSTM(256, dropout=0.2,      # x与h之间的dropout\n",
    "               recurrent_dropout=0.2, # h与h之间的dropout\n",
    "               input_shape=(sequence_length, 128)))\n",
    "model.add(Dropout(0.2))\n",
    "model.add(Dense(128, activation='sigmoid'))\n",
    "model.compile(loss='mse', optimizer='adam')"
   ]
  },
  {
   "cell_type": "code",
   "execution_count": 9,
   "metadata": {},
   "outputs": [
    {
     "name": "stdout",
     "output_type": "stream",
     "text": [
      "Train on 46679 samples, validate on 5187 samples\n",
      "Epoch 1/50\n",
      "46679/46679 [==============================] - 1s 18us/step - loss: 0.2804 - val_loss: 0.1297\n",
      "Epoch 2/50\n",
      "46679/46679 [==============================] - 0s 8us/step - loss: 0.1311 - val_loss: 0.1102\n",
      "Epoch 3/50\n",
      "46679/46679 [==============================] - 0s 8us/step - loss: 0.1228 - val_loss: 0.1081\n",
      "Epoch 4/50\n",
      "46679/46679 [==============================] - 0s 8us/step - loss: 0.1213 - val_loss: 0.1073\n",
      "Epoch 5/50\n",
      "46679/46679 [==============================] - 0s 8us/step - loss: 0.1205 - val_loss: 0.1069\n",
      "Epoch 6/50\n",
      "46679/46679 [==============================] - 0s 8us/step - loss: 0.1200 - val_loss: 0.1067\n",
      "Epoch 7/50\n",
      "46679/46679 [==============================] - 0s 8us/step - loss: 0.1195 - val_loss: 0.1064\n",
      "Epoch 8/50\n",
      "46679/46679 [==============================] - 0s 8us/step - loss: 0.1191 - val_loss: 0.1063\n",
      "Epoch 9/50\n",
      "46679/46679 [==============================] - 0s 8us/step - loss: 0.1187 - val_loss: 0.1059\n",
      "Epoch 10/50\n",
      "46679/46679 [==============================] - 0s 8us/step - loss: 0.1185 - val_loss: 0.1060\n",
      "Epoch 11/50\n",
      "46679/46679 [==============================] - 0s 8us/step - loss: 0.1183 - val_loss: 0.1060\n",
      "Epoch 12/50\n",
      "46679/46679 [==============================] - 0s 8us/step - loss: 0.1180 - val_loss: 0.1064\n",
      "Epoch 13/50\n",
      "46679/46679 [==============================] - 0s 9us/step - loss: 0.1179 - val_loss: 0.1059\n",
      "Epoch 14/50\n",
      "46679/46679 [==============================] - 0s 8us/step - loss: 0.1177 - val_loss: 0.1061\n",
      "Epoch 15/50\n",
      "46679/46679 [==============================] - 0s 8us/step - loss: 0.1175 - val_loss: 0.1060\n",
      "Epoch 16/50\n",
      "46679/46679 [==============================] - 0s 8us/step - loss: 0.1174 - val_loss: 0.1059\n",
      "Epoch 17/50\n",
      "46679/46679 [==============================] - 0s 8us/step - loss: 0.1173 - val_loss: 0.1058\n",
      "Epoch 18/50\n",
      "46679/46679 [==============================] - 0s 8us/step - loss: 0.1171 - val_loss: 0.1060\n",
      "Epoch 19/50\n",
      "46679/46679 [==============================] - 0s 9us/step - loss: 0.1170 - val_loss: 0.1059\n",
      "Epoch 20/50\n",
      "46679/46679 [==============================] - 0s 8us/step - loss: 0.1169 - val_loss: 0.1058\n",
      "Epoch 21/50\n",
      "46679/46679 [==============================] - 0s 8us/step - loss: 0.1168 - val_loss: 0.1060\n",
      "Epoch 22/50\n",
      "46679/46679 [==============================] - 0s 8us/step - loss: 0.1167 - val_loss: 0.1059\n",
      "Epoch 23/50\n",
      "46679/46679 [==============================] - 0s 8us/step - loss: 0.1166 - val_loss: 0.1059\n",
      "Epoch 24/50\n",
      "46679/46679 [==============================] - 0s 8us/step - loss: 0.1165 - val_loss: 0.1061\n",
      "Epoch 25/50\n",
      "46679/46679 [==============================] - 0s 8us/step - loss: 0.1165 - val_loss: 0.1060\n",
      "Epoch 26/50\n",
      "46679/46679 [==============================] - 0s 9us/step - loss: 0.1164 - val_loss: 0.1057\n",
      "Epoch 27/50\n",
      "46679/46679 [==============================] - 0s 8us/step - loss: 0.1163 - val_loss: 0.1058\n",
      "Epoch 28/50\n",
      "46679/46679 [==============================] - 0s 8us/step - loss: 0.1162 - val_loss: 0.1057\n",
      "Epoch 29/50\n",
      "46679/46679 [==============================] - 0s 8us/step - loss: 0.1162 - val_loss: 0.1059\n",
      "Epoch 30/50\n",
      "46679/46679 [==============================] - 0s 8us/step - loss: 0.1161 - val_loss: 0.1055\n",
      "Epoch 31/50\n",
      "46679/46679 [==============================] - 0s 8us/step - loss: 0.1161 - val_loss: 0.1058\n",
      "Epoch 32/50\n",
      "46679/46679 [==============================] - 0s 8us/step - loss: 0.1160 - val_loss: 0.1057\n",
      "Epoch 33/50\n",
      "46679/46679 [==============================] - 0s 8us/step - loss: 0.1160 - val_loss: 0.1058\n",
      "Epoch 34/50\n",
      "46679/46679 [==============================] - 0s 8us/step - loss: 0.1159 - val_loss: 0.1058\n",
      "Epoch 35/50\n",
      "46679/46679 [==============================] - 0s 9us/step - loss: 0.1158 - val_loss: 0.1056\n",
      "Epoch 36/50\n",
      "46679/46679 [==============================] - 0s 8us/step - loss: 0.1158 - val_loss: 0.1057\n",
      "Epoch 37/50\n",
      "46679/46679 [==============================] - 0s 8us/step - loss: 0.1158 - val_loss: 0.1056\n",
      "Epoch 38/50\n",
      "46679/46679 [==============================] - 0s 9us/step - loss: 0.1158 - val_loss: 0.1057\n",
      "Epoch 39/50\n",
      "46679/46679 [==============================] - 0s 8us/step - loss: 0.1157 - val_loss: 0.1057\n",
      "Epoch 40/50\n",
      "46679/46679 [==============================] - 0s 8us/step - loss: 0.1157 - val_loss: 0.1057\n",
      "Epoch 41/50\n",
      "46679/46679 [==============================] - 0s 8us/step - loss: 0.1156 - val_loss: 0.1055\n",
      "Epoch 42/50\n",
      "46679/46679 [==============================] - 0s 8us/step - loss: 0.1156 - val_loss: 0.1061\n",
      "Epoch 43/50\n",
      "46679/46679 [==============================] - 0s 8us/step - loss: 0.1156 - val_loss: 0.1056\n",
      "Epoch 44/50\n",
      "46679/46679 [==============================] - 0s 8us/step - loss: 0.1156 - val_loss: 0.1056\n",
      "Epoch 45/50\n",
      "46679/46679 [==============================] - 0s 8us/step - loss: 0.1156 - val_loss: 0.1058\n",
      "Epoch 46/50\n",
      "46679/46679 [==============================] - 0s 8us/step - loss: 0.1156 - val_loss: 0.1056\n",
      "Epoch 47/50\n",
      "46679/46679 [==============================] - 0s 8us/step - loss: 0.1155 - val_loss: 0.1056\n",
      "Epoch 48/50\n",
      "46679/46679 [==============================] - 0s 8us/step - loss: 0.1155 - val_loss: 0.1059\n",
      "Epoch 49/50\n",
      "46679/46679 [==============================] - 0s 8us/step - loss: 0.1155 - val_loss: 0.1055\n",
      "Epoch 50/50\n",
      "46679/46679 [==============================] - 0s 8us/step - loss: 0.1155 - val_loss: 0.1056\n"
     ]
    },
    {
     "data": {
      "text/plain": [
       "<keras.callbacks.callbacks.History at 0x7fec48b6cb10>"
      ]
     },
     "execution_count": 9,
     "metadata": {},
     "output_type": "execute_result"
    }
   ],
   "source": [
    "model.fit(x_train, y_train, epochs=50, batch_size=4096, validation_split=0.1)"
   ]
  },
  {
   "cell_type": "markdown",
   "metadata": {},
   "source": [
    "# 模型预测"
   ]
  },
  {
   "cell_type": "code",
   "execution_count": 49,
   "metadata": {},
   "outputs": [],
   "source": [
    "def predict_next(input_array):\n",
    "    \"\"\"根据输入的特征预测下一个单词\"\"\"\n",
    "    test_data = np.reshape(input_array, (1, sequence_length, 128))\n",
    "    return model.predict(test_data)\n",
    "\n",
    "def string_to_vector(input_string):\n",
    "    \"\"\"将文本中末尾的单词转换为word2vec向量\"\"\"\n",
    "    input_string = input_string.lower()\n",
    "    input_string = nltk.word_tokenize(input_string)\n",
    "    return [w2v.wv[w] for w in input_string[-sequence_length:]]\n",
    "\n",
    "def pred_to_word(pred):\n",
    "    \"\"\"根据预测值获取最相似的单词\"\"\"\n",
    "    return w2v.wv.most_similar(positive=pred, topn=5)[0][0]\n",
    "\n",
    "def generate_text(init_string, steps=30):\n",
    "    \"\"\"根据初始字符串生成文本\"\"\"\n",
    "    result = init_string.lower()\n",
    "    for i in range(steps):\n",
    "        w = pred_to_word(predict_next(string_to_vector(result)))\n",
    "        result += ' ' + w\n",
    "    return result"
   ]
  },
  {
   "cell_type": "code",
   "execution_count": 50,
   "metadata": {},
   "outputs": [
    {
     "name": "stdout",
     "output_type": "stream",
     "text": [
      "his object in coming to new york was to engage officers for that service. beginning beginning beginning tuesday smile smile smile smile smile smile tuesday tuesday tuesday tuesday tuesday tuesday tuesday tuesday tuesday tuesday tuesday tuesday tuesday tuesday tuesday tuesday tuesday tuesday tuesday tuesday\n"
     ]
    }
   ],
   "source": [
    "init_string = 'His object in coming to New York was to engage officers for that service.'\n",
    "result = generate_text(init_string)\n",
    "print(result)"
   ]
  },
  {
   "cell_type": "code",
   "execution_count": null,
   "metadata": {},
   "outputs": [],
   "source": []
  }
 ],
 "metadata": {
  "kernelspec": {
   "display_name": "Python 3",
   "language": "python",
   "name": "python3"
  },
  "language_info": {
   "codemirror_mode": {
    "name": "ipython",
    "version": 3
   },
   "file_extension": ".py",
   "mimetype": "text/x-python",
   "name": "python",
   "nbconvert_exporter": "python",
   "pygments_lexer": "ipython3",
   "version": "3.7.6"
  },
  "toc": {
   "base_numbering": 1,
   "nav_menu": {},
   "number_sections": true,
   "sideBar": true,
   "skip_h1_title": false,
   "title_cell": "Table of Contents",
   "title_sidebar": "Contents",
   "toc_cell": false,
   "toc_position": {},
   "toc_section_display": true,
   "toc_window_display": false
  }
 },
 "nbformat": 4,
 "nbformat_minor": 4
}
