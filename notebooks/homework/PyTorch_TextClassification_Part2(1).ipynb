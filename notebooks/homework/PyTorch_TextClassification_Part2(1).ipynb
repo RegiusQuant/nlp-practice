{
 "cells": [
  {
   "cell_type": "markdown",
   "metadata": {},
   "source": [
    "# 作业二：文本分类 Part2（1）"
   ]
  },
  {
   "cell_type": "markdown",
   "metadata": {},
   "source": [
    "* 本次作业使用神经网络进行文本情感分类\n",
    "* 使用Stanford-Sentiment-Treebank电影评论作为数据集\n",
    "\n",
    "文件名|说明\n",
    ":-:|:-:\n",
    "senti.train.tsv | 训练数据\n",
    "senti.dev.tsv | 验证数据\n",
    "senti.test.tsv | 测试数据\n",
    "\n",
    "* 文件的每一行是一个句子，和该句子的情感分类，中间由tab分割"
   ]
  },
  {
   "cell_type": "markdown",
   "metadata": {},
   "source": [
    "**首先导入这次作业需要的包，并设置随机种子**"
   ]
  },
  {
   "cell_type": "code",
   "execution_count": 41,
   "metadata": {},
   "outputs": [],
   "source": [
    "%matplotlib inline\n",
    "\n",
    "import math\n",
    "import random\n",
    "from collections import defaultdict\n",
    "from pathlib import Path\n",
    "\n",
    "import numpy as np\n",
    "import matplotlib.pyplot as plt\n",
    "import torch\n",
    "import torch.nn as nn\n",
    "import torch.nn.functional as F\n",
    "import torchtext\n",
    "import tqdm\n",
    "\n",
    "def set_random_seed(seed):\n",
    "    random.seed(seed)\n",
    "    np.random.seed(seed)\n",
    "    torch.manual_seed(seed)\n",
    "    torch.cuda.manual_seed(seed)\n",
    "    torch.cuda.manual_seed_all(seed)\n",
    "    torch.backends.cudnn.benchmark = False\n",
    "    torch.backends.cudnn.deterministic = True\n",
    "\n",
    "set_random_seed(2020)\n",
    "device = torch.device('cuda:0' if torch.cuda.is_available else 'cpu')"
   ]
  },
  {
   "cell_type": "markdown",
   "metadata": {},
   "source": [
    "**设定计算设备与数据集路径**"
   ]
  },
  {
   "cell_type": "code",
   "execution_count": 42,
   "metadata": {},
   "outputs": [
    {
     "name": "stdout",
     "output_type": "stream",
     "text": [
      "PyTorch Version: 1.4.0\n",
      "------------------------------------------------------------\n",
      "CUDA Device Count: 2\n",
      "CUDA Device Name:\n",
      "\t GeForce RTX 2080 Ti\n",
      "\t GeForce RTX 2080 Ti\n",
      "CUDA Current Device Index: 0\n",
      "------------------------------------------------------------\n",
      "Data Path: /media/bnu/data/nlp-practice/sentiment-analysis/standford-sentiment-treebank\n"
     ]
    }
   ],
   "source": [
    "device = torch.device('cuda' if torch.cuda.is_available else 'cpu')\n",
    "data_path = Path('/media/bnu/data/nlp-practice/sentiment-analysis/standford-sentiment-treebank')\n",
    "\n",
    "print('PyTorch Version:', torch.__version__)\n",
    "print('-' * 60)\n",
    "if torch.cuda.is_available():\n",
    "    print('CUDA Device Count:', torch.cuda.device_count())\n",
    "    print('CUDA Device Name:')\n",
    "    for i in range(torch.cuda.device_count()):\n",
    "        print('\\t', torch.cuda.get_device_name(i))\n",
    "    print('CUDA Current Device Index:', torch.cuda.current_device())\n",
    "    print('-' * 60)\n",
    "print('Data Path:', data_path)"
   ]
  },
  {
   "cell_type": "markdown",
   "metadata": {},
   "source": [
    "## 数据处理"
   ]
  },
  {
   "cell_type": "markdown",
   "metadata": {},
   "source": [
    "### 定义数据集的Dataset"
   ]
  },
  {
   "cell_type": "code",
   "execution_count": 43,
   "metadata": {
    "scrolled": true
   },
   "outputs": [],
   "source": [
    "# 定义数据集中每一列的数据类型，用于传换成Tensor\n",
    "text_field = torchtext.data.Field(sequential=True, batch_first=True, include_lengths=True)\n",
    "label_field = torchtext.data.LabelField(sequential=False, use_vocab=False, dtype=torch.float)\n",
    "\n",
    "# 将tsv数据构建为数据集\n",
    "train_set, valid_set, test_set = torchtext.data.TabularDataset.splits(\n",
    "    path=data_path,\n",
    "    train='senti.train.tsv',\n",
    "    validation='senti.dev.tsv',\n",
    "    test='senti.test.tsv',\n",
    "    format='tsv',\n",
    "    fields=[('text', text_field), ('label', label_field)]\n",
    ")\n",
    "\n",
    "# 以训练集数据，构建单词表\n",
    "text_field.build_vocab(train_set)"
   ]
  },
  {
   "cell_type": "markdown",
   "metadata": {},
   "source": [
    "**简单测试**"
   ]
  },
  {
   "cell_type": "code",
   "execution_count": 44,
   "metadata": {},
   "outputs": [
    {
     "name": "stdout",
     "output_type": "stream",
     "text": [
      "Tabular Dataset Example:\n",
      "Text: ['The', 'mesmerizing', 'performances', 'of', 'the', 'leads', 'keep', 'the', 'film', 'grounded', 'and', 'keep', 'the', 'audience', 'riveted', '.']\n",
      "Label: 1\n",
      "------------------------------------------------------------\n",
      "Vocab: Str -> Index\n",
      "[('<unk>', 0), ('<pad>', 1), (',', 2), ('the', 3), ('and', 4)]\n",
      "Vocab: Index -> Str\n",
      "['<unk>', '<pad>', ',', 'the', 'and']\n",
      "Vocab Size:\n",
      "16284\n"
     ]
    }
   ],
   "source": [
    "print('Tabular Dataset Example:')\n",
    "print('Text:', valid_set[10].text)\n",
    "print('Label:', valid_set[10].label)\n",
    "print('-' * 60)\n",
    "\n",
    "print('Vocab: Str -> Index')\n",
    "print(list(text_field.vocab.stoi.items())[:5])\n",
    "print('Vocab: Index -> Str')\n",
    "print(text_field.vocab.itos[:5])\n",
    "print('Vocab Size:')\n",
    "print(len(text_field.vocab))"
   ]
  },
  {
   "cell_type": "markdown",
   "metadata": {},
   "source": [
    "### 定义数据集的Iterator"
   ]
  },
  {
   "cell_type": "code",
   "execution_count": 45,
   "metadata": {},
   "outputs": [],
   "source": [
    "train_iter, valid_iter, test_iter = torchtext.data.BucketIterator.splits(\n",
    "    datasets=(train_set, valid_set, test_set),\n",
    "    batch_sizes=(256, 256, 256),\n",
    "    sort_key=lambda x: len(x.text),\n",
    "    sort_within_batch=True,\n",
    "    device=device,\n",
    ")"
   ]
  },
  {
   "cell_type": "markdown",
   "metadata": {},
   "source": [
    "**简单测试**"
   ]
  },
  {
   "cell_type": "code",
   "execution_count": 46,
   "metadata": {},
   "outputs": [
    {
     "name": "stdout",
     "output_type": "stream",
     "text": [
      "Train Iterator:\n",
      "\n",
      "[torchtext.data.batch.Batch of size 256]\n",
      "\t[.text]:('[torch.cuda.LongTensor of size 256x9 (GPU 0)]', '[torch.cuda.LongTensor of size 256 (GPU 0)]')\n",
      "\t[.label]:[torch.cuda.FloatTensor of size 256 (GPU 0)]\n",
      "------------------------------------------------------------ \n",
      "\n",
      "Valid Iterator:\n",
      "\n",
      "[torchtext.data.batch.Batch of size 256]\n",
      "\t[.text]:('[torch.cuda.LongTensor of size 256x14 (GPU 0)]', '[torch.cuda.LongTensor of size 256 (GPU 0)]')\n",
      "\t[.label]:[torch.cuda.FloatTensor of size 256 (GPU 0)]\n",
      "------------------------------------------------------------ \n",
      "\n",
      "Test Iterator:\n",
      "\n",
      "[torchtext.data.batch.Batch of size 256]\n",
      "\t[.text]:('[torch.cuda.LongTensor of size 256x9 (GPU 0)]', '[torch.cuda.LongTensor of size 256 (GPU 0)]')\n",
      "\t[.label]:[torch.cuda.FloatTensor of size 256 (GPU 0)]\n",
      "------------------------------------------------------------ \n",
      "\n"
     ]
    }
   ],
   "source": [
    "print('Train Iterator:')\n",
    "for batch in train_iter:\n",
    "    print(batch)\n",
    "    print('-' * 60, '\\n')\n",
    "    break\n",
    "    \n",
    "print('Valid Iterator:')\n",
    "for batch in valid_iter:\n",
    "    print(batch)\n",
    "    print('-' * 60, '\\n')\n",
    "    break\n",
    "    \n",
    "print('Test Iterator:')\n",
    "for batch in test_iter:\n",
    "    print(batch)\n",
    "    print('-' * 60, '\\n')\n",
    "    break"
   ]
  },
  {
   "cell_type": "markdown",
   "metadata": {},
   "source": [
    "## 定义模型"
   ]
  },
  {
   "cell_type": "markdown",
   "metadata": {},
   "source": [
    "### 简单的Self-Attention模型"
   ]
  },
  {
   "cell_type": "markdown",
   "metadata": {},
   "source": [
    "* 定义以下基于Self-Attention的模型\n",
    "\n",
    "$$ a_{ts} = \\operatorname{emb}(x_t)^T \\operatorname{emb}(x_s)$$\n",
    "\n",
    "$$ \\alpha_{t} \\propto \\exp(\\sum_s a_{ts}) $$\n",
    "\n",
    "$$ h_{self}=\\sum_t \\alpha_{t} \\operatorname{emb}(x_t) $$\n",
    "\n",
    "* 该句子为正面情感的概率为:\n",
    "\n",
    "$$ \\sigma(w^Th_{self}) $$\n",
    "\n",
    "* 可以在模型中加入residual connection，将输入的词向量平均向量加入进去\n",
    "\n",
    "$$ \\sigma(w^T(h_{self}+h_{avg})) $$"
   ]
  },
  {
   "cell_type": "code",
   "execution_count": 47,
   "metadata": {},
   "outputs": [],
   "source": [
    "class SimpleSelfAttentionModel(nn.Module):\n",
    "    \n",
    "    def __init__(self, n_words, n_embed, p_drop, pad_idx, res_conn=False):\n",
    "        super(SimpleSelfAttentionModel, self).__init__()\n",
    "        self.res_conn = res_conn\n",
    "        \n",
    "        self.embed = nn.Embedding(n_words, n_embed, padding_idx=pad_idx)\n",
    "        self.linear = nn.Linear(n_embed, 1)\n",
    "        self.drop = nn.Dropout(p_drop)\n",
    "        \n",
    "    def forward(self, inputs, mask):\n",
    "        # (batch, len, n_embed)\n",
    "        query = self.drop(self.embed(inputs))\n",
    "        key = self.drop(self.embed(inputs))\n",
    "        value = self.drop(self.embed(inputs))\n",
    "\n",
    "        # (batch, len, 1)\n",
    "        attn_mask = mask.unsqueeze(2)\n",
    "        attn_mask = attn_mask * attn_mask.transpose(1, 2)\n",
    "        \n",
    "        # (batch, len, len)\n",
    "        score = torch.bmm(query, key.transpose(1, 2))\n",
    "        score = score.masked_fill(~attn_mask, -1e9)\n",
    "        attn = F.softmax(score, dim=-1)\n",
    "        \n",
    "        # (batch, n_embed)\n",
    "        h_self = torch.bmm(attn, value).sum(1).squeeze()\n",
    "\n",
    "        # 处理residual connection的情况\n",
    "        if self.res_conn:\n",
    "            # (batch, len, 1)\n",
    "            mask = mask.float().unsqueeze(2)\n",
    "            # (batch, len, n_embed)\n",
    "            h_avg = query * mask\n",
    "            # (batch, n_embed)\n",
    "            h_avg = h_avg.sum(1) / (mask.sum(1) + 1e-5)\n",
    "            h_self = h_self + h_avg\n",
    "        \n",
    "        return self.linear(self.drop(h_self)).squeeze()\n"
   ]
  },
  {
   "cell_type": "markdown",
   "metadata": {},
   "source": [
    "**简单测试**"
   ]
  },
  {
   "cell_type": "code",
   "execution_count": 48,
   "metadata": {
    "scrolled": true
   },
   "outputs": [
    {
     "name": "stdout",
     "output_type": "stream",
     "text": [
      "torch.Size([256])\n"
     ]
    }
   ],
   "source": [
    "model = SimpleSelfAttentionModel(\n",
    "    n_words=len(text_field.vocab),\n",
    "    n_embed=200,\n",
    "    p_drop=0.2,\n",
    "    pad_idx=text_field.vocab.stoi['<pad>'],\n",
    "    res_conn=True,\n",
    ")\n",
    "model.to(device)\n",
    "\n",
    "for batch in train_iter:\n",
    "    inputs, lengths = batch.text\n",
    "    mask = (inputs != text_field.vocab.stoi['<pad>'])\n",
    "    outputs = model(inputs, mask)\n",
    "    print(outputs.shape)\n",
    "    break"
   ]
  },
  {
   "cell_type": "markdown",
   "metadata": {},
   "source": [
    "### 简单的Transformer模型"
   ]
  },
  {
   "cell_type": "markdown",
   "metadata": {},
   "source": [
    "* 接下来自己编写实现一个简单的Transformer的模型, 参考资料如下：\n",
    "    * [HuggingFace](https://github.com/huggingface/transformers/blob/master/src/transformers/modeling_bert.py)\n",
    "    * [The Annotated Transformer](http://nlp.seas.harvard.edu/2018/04/03/attention.html)"
   ]
  },
  {
   "cell_type": "markdown",
   "metadata": {},
   "source": [
    "* 首先我们先来实现其中的输入Embedding部分\n",
    "* 这一部分包含两个模块：Input Embedding， Positional Encoding\n",
    "* Input Embedding中将权重乘以$ \\sqrt {d_{model}} $\n",
    "* Positional Encoding按照论文中的公式计算:\n",
    "$$ PE_{(pos,2i)}=\\sin(pos/10000^{2i/d_{model}}) $$\n",
    "$$ PE_{(pos,2i+1)}=\\cos(pos/10000^{2i/d_{model}}) $$"
   ]
  },
  {
   "cell_type": "code",
   "execution_count": 49,
   "metadata": {},
   "outputs": [],
   "source": [
    "class InputEmbedding(nn.Module):\n",
    "    def __init__(self, n_words, d_model):\n",
    "        super(InputEmbedding, self).__init__()\n",
    "        self.d_model = d_model\n",
    "        self.embed = nn.Embedding(n_words, d_model, padding_idx=1)\n",
    "        \n",
    "    def forward(self, x):\n",
    "        # (bs, len, d_model)\n",
    "        return self.embed(x) * np.sqrt(self.d_model)\n",
    "    "
   ]
  },
  {
   "cell_type": "code",
   "execution_count": 107,
   "metadata": {},
   "outputs": [],
   "source": [
    "class PositionalEncoding(nn.Module):\n",
    "    def __init__(self, d_model, p_drop=0.1, max_len=5000):\n",
    "        super(PositionalEncoding, self).__init__()\n",
    "        self.dropout = nn.Dropout(p_drop)\n",
    "        \n",
    "        # 计算位置编码\n",
    "        pe = torch.zeros(max_len, d_model)\n",
    "        # (max_len, 1)\n",
    "        pos = torch.arange(0, max_len).unsqueeze(1)\n",
    "        # 计算分母，通过先转换为log之后exp获得\n",
    "        div = torch.exp(torch.arange(0, d_model, 2) * (-np.log(10000.0) / d_model))\n",
    "        pe[:, 0::2] = torch.sin(pos * div)\n",
    "        pe[:, 1::2] = torch.cos(pos * div)        \n",
    "\n",
    "        # (1, max_len, d_model)\n",
    "        pe = pe.unsqueeze(0)\n",
    "        # 这里使用register_buffer，使得pe不会被优化器更新\n",
    "        self.register_buffer('pe', pe)\n",
    "        \n",
    "    def forward(self, x):\n",
    "        # (bs, len, d_model)\n",
    "        x = x + self.pe[:, :x.size(1)]\n",
    "        return self.dropout(x)"
   ]
  },
  {
   "cell_type": "markdown",
   "metadata": {},
   "source": [
    "* 绘图观察一下Positional Encoding的结果"
   ]
  },
  {
   "cell_type": "code",
   "execution_count": 108,
   "metadata": {},
   "outputs": [
    {
     "data": {
      "image/png": "[encoded data removed]",
      "text/plain": [
       "<Figure size 1080x360 with 1 Axes>"
      ]
     },
     "metadata": {
      "needs_background": "light"
     },
     "output_type": "display_data"
    }
   ],
   "source": [
    "plt.figure(figsize=(15, 5))\n",
    "pe = PositionalEncoding(16, p_drop=0)\n",
    "y = pe.forward(torch.zeros(1, 100, 16))\n",
    "plt.plot(np.arange(100), y[0, :, 3:8].data.numpy())\n",
    "plt.legend([\"dim %d\"%p for p in [3,4,5,6,7]])\n",
    "plt.show()"
   ]
  },
  {
   "cell_type": "markdown",
   "metadata": {},
   "source": [
    "* 接下来实现Multi-Head Attention部分\n",
    "* 对于Attention相关计算公式如下\n",
    "$$ \\operatorname{Attention}(Q,K,V)=\\operatorname{softmax}(\\frac{QK^T}{\\sqrt{d_k}})V $$\n",
    "\n",
    "$$ \\operatorname{MultiHead}(Q,K,V)=\\operatorname{Concat}(head_1,...,head_h)W^O $$\n",
    "\n",
    "$$ head_i = \\operatorname{Attention}(QW_i^Q, KW_i^K, VW_i^V) $$"
   ]
  },
  {
   "cell_type": "code",
   "execution_count": 134,
   "metadata": {},
   "outputs": [],
   "source": [
    "class MultiHeadAttention(nn.Module):\n",
    "    def __init__(self, d_model, n_heads, p_drop=0.1):\n",
    "        super(MultiHeadAttention, self).__init__()\n",
    "        # 这里保证head的数量一定要被d_model整除\n",
    "        assert d_model % n_heads == 0\n",
    "    \n",
    "        self.d_model = d_model\n",
    "        self.n_heads = n_heads\n",
    "        # 每一个head中Q,K,V的维度\n",
    "        self.d_hidden = d_model // n_heads\n",
    "        \n",
    "        self.q_linear = nn.Linear(d_model, d_model)\n",
    "        self.k_linear = nn.Linear(d_model, d_model)\n",
    "        self.v_linear = nn.Linear(d_model, d_model)\n",
    "        self.dropout = nn.Dropout(p_drop)\n",
    "        self.fc = nn.Linear(d_model, d_model)\n",
    "        \n",
    "    def forward(self, q, k, v, mask=None):\n",
    "        bs = q.size(0)\n",
    "        \n",
    "        # 将经过线性变换的数据拆分为多个head\n",
    "        # (bs, len, n_heads, d_hidden)\n",
    "        q = self.q_linear(q).view(bs, -1, self.n_heads, self.d_hidden)\n",
    "        k = self.k_linear(k).view(bs, -1, self.n_heads, self.d_hidden)\n",
    "        v = self.v_linear(v).view(bs, -1, self.n_heads, self.d_hidden)\n",
    "        \n",
    "        # (bs, n_head, len, d_hidden)\n",
    "        q = q.transpose(1, 2)\n",
    "        k = k.transpose(1, 2)\n",
    "        v = v.transpose(1, 2)\n",
    "        \n",
    "        # 这里开始计算Attention\n",
    "        # (bs, n_head, len, len)\n",
    "        scores = torch.matmul(q, k.transpose(-2, -1)) / np.sqrt(self.d_hidden)\n",
    "        if mask is not None:\n",
    "            mask = mask.unsqueeze(1)\n",
    "            scores = scores.masked_fill(mask==False, -1e9)\n",
    "        scores = F.softmax(scores, dim=-1)\n",
    "        # (bs, n_head, len, d_hidden)\n",
    "        attn = torch.matmul(scores, v)\n",
    "        \n",
    "        # (bs, len, d_model)\n",
    "        concat = attn.transpose(1, 2).reshape(bs, -1, self.d_model)\n",
    "        concat = self.dropout(concat)\n",
    "        return self.fc(concat)\n",
    "        "
   ]
  },
  {
   "cell_type": "markdown",
   "metadata": {},
   "source": [
    "* 主要的模块已经写好了，这里我们拼装起来"
   ]
  },
  {
   "cell_type": "code",
   "execution_count": 141,
   "metadata": {},
   "outputs": [],
   "source": [
    "class SimpleTransformerModel(nn.Module):\n",
    "    def __init__(self, n_words, d_model, n_heads, p_drop=0.1,\n",
    "                 use_pos=False):\n",
    "        super(SimpleTransformerModel, self).__init__()\n",
    "        self.use_pos = use_pos\n",
    "        \n",
    "        self.inp_emb = InputEmbedding(n_words, d_model)\n",
    "        self.pos_enc = PositionalEncoding(d_model, p_drop)\n",
    "        self.mulattn = MultiHeadAttention(d_model, n_heads)\n",
    "        self.norm = nn.LayerNorm(d_model)\n",
    "        self.linear = nn.Linear(d_model, 1)\n",
    "        \n",
    "    def forward(self, inputs, mask):\n",
    "        # (bs, len, d_model)\n",
    "        x_embed = self.inp_emb(inputs)\n",
    "        \n",
    "        if self.use_pos:\n",
    "            # (bs, len, d_model)\n",
    "            x_embed = self.pos_enc(x_embed)\n",
    "        \n",
    "        # (bs, len, 1)\n",
    "        attn_mask = mask.unsqueeze(2)\n",
    "\n",
    "        # (bs, len, len)\n",
    "        attn_mask = attn_mask * attn_mask.transpose(1, 2)\n",
    "        # (bs, len, d_model)\n",
    "        x_attn = self.mulattn(x_embed, x_embed, x_embed, attn_mask)\n",
    "        \n",
    "        x_attn = self.norm(x_attn + x_embed)\n",
    "        \n",
    "        # (batch, len, 1)\n",
    "        mask = mask.float().unsqueeze(2)\n",
    "        # (batch, len, d_model)\n",
    "        x_attn = x_attn * mask\n",
    "        # (batch, d_model)\n",
    "        x_sum = x_attn.sum(1) / (mask.sum(1) + 1e-6)\n",
    "        return self.linear(x_sum).squeeze()\n",
    "        "
   ]
  },
  {
   "cell_type": "markdown",
   "metadata": {},
   "source": [
    "**简单测试**"
   ]
  },
  {
   "cell_type": "code",
   "execution_count": 142,
   "metadata": {},
   "outputs": [
    {
     "name": "stdout",
     "output_type": "stream",
     "text": [
      "torch.Size([256])\n"
     ]
    }
   ],
   "source": [
    "model = SimpleTransformerModel(\n",
    "    n_words=len(text_field.vocab),\n",
    "    d_model=128,\n",
    "    n_heads=4,\n",
    "    p_drop=0.2,\n",
    ")\n",
    "model.to(device)\n",
    "\n",
    "for batch in train_iter:\n",
    "    inputs, lengths = batch.text\n",
    "    mask = (inputs != text_field.vocab.stoi['<pad>'])\n",
    "    outputs = model(inputs, mask)\n",
    "    print(outputs.shape)\n",
    "    break"
   ]
  },
  {
   "cell_type": "markdown",
   "metadata": {},
   "source": [
    "### 基于PyTorch的Transformer模型"
   ]
  },
  {
   "cell_type": "markdown",
   "metadata": {},
   "source": [
    "* 从PyTorch1.2版本开始，PyTorch中也提供了Transformer的实现，这里我们使用一下看看"
   ]
  },
  {
   "cell_type": "code",
   "execution_count": 173,
   "metadata": {},
   "outputs": [],
   "source": [
    "class PyTorchTransformerModel(nn.Module):\n",
    "    def __init__(self, n_words, d_model, n_heads, n_layers, p_drop=0.1):\n",
    "        super(PyTorchTransformerModel, self).__init__()\n",
    "        self.inp_emb = InputEmbedding(n_words, d_model)\n",
    "        self.pos_enc = PositionalEncoding(d_model, p_drop)\n",
    "        self.encoder = nn.TransformerEncoder(\n",
    "            nn.TransformerEncoderLayer(\n",
    "                d_model, n_heads, \n",
    "                dim_feedforward=d_model*2,\n",
    "                dropout=p_drop\n",
    "            ),\n",
    "            num_layers=n_layers,\n",
    "            norm=nn.LayerNorm(d_model)\n",
    "        )\n",
    "        self.linear = nn.Linear(d_model, 1)\n",
    "        \n",
    "    def forward(self, inputs, mask):\n",
    "        # (bs, len, d_model)\n",
    "        x_embed = self.inp_emb(inputs)\n",
    "        # (bs, len, d_model)\n",
    "        x_embed = self.pos_enc(x_embed)\n",
    "        \n",
    "        # (len, bs, d_model)\n",
    "        # 注意src_key_padding_mask参数中 pad的位置为True\n",
    "        x_enc = self.encoder(x_embed.transpose(0, 1), src_key_padding_mask=~mask)\n",
    "        x_enc = x_enc.transpose(0, 1)\n",
    "        \n",
    "        # (batch, len, 1)\n",
    "        mask = mask.float().unsqueeze(2)\n",
    "        # (batch, len, d_model)\n",
    "        x_enc = x_enc * mask\n",
    "        # (batch, d_model)\n",
    "        x_sum = x_enc.sum(1) / (mask.sum(1) + 1e-6)\n",
    "        return self.linear(x_sum).squeeze()\n",
    "        \n",
    "    "
   ]
  },
  {
   "cell_type": "markdown",
   "metadata": {},
   "source": [
    "**简单测试**"
   ]
  },
  {
   "cell_type": "code",
   "execution_count": 174,
   "metadata": {},
   "outputs": [
    {
     "name": "stdout",
     "output_type": "stream",
     "text": [
      "torch.Size([256])\n"
     ]
    }
   ],
   "source": [
    "model = PyTorchTransformerModel(\n",
    "    n_words=len(text_field.vocab),\n",
    "    d_model=128,\n",
    "    n_heads=4,\n",
    "    n_layers=1,\n",
    ")\n",
    "model.to(device)\n",
    "\n",
    "for batch in train_iter:\n",
    "    inputs, lengths = batch.text\n",
    "    mask = (inputs != text_field.vocab.stoi['<pad>'])\n",
    "    outputs = model(inputs, mask)\n",
    "    print(outputs.shape)\n",
    "    break"
   ]
  },
  {
   "cell_type": "markdown",
   "metadata": {},
   "source": [
    "## 模型训练"
   ]
  },
  {
   "cell_type": "code",
   "execution_count": 115,
   "metadata": {},
   "outputs": [],
   "source": [
    "class TCLearner:\n",
    "    def __init__(self, model):\n",
    "        self.model = model\n",
    "        self.model.to(device)\n",
    "        self.optimizer = torch.optim.AdamW(self.model.parameters(), lr=1e-3)\n",
    "        self.crirerion = nn.BCEWithLogitsLoss()\n",
    "    \n",
    "    def _calc_correct_num(self, outputs, targets):\n",
    "        preds = torch.round(torch.sigmoid(outputs))\n",
    "        return (preds == targets).int().sum().item()\n",
    "    \n",
    "    def fit(self, train_iter, valid_iter, n_epochs):\n",
    "        for epoch in range(n_epochs):\n",
    "            model.train()\n",
    "            total_loss = 0.0\n",
    "            total_sents, total_correct = 0, 0\n",
    "            \n",
    "            for batch in train_iter:\n",
    "                inputs, lengths = batch.text\n",
    "                targets = batch.label\n",
    "                mask = (inputs != text_field.vocab.stoi['<pad>'])\n",
    "                \n",
    "                outputs = self.model(inputs, mask)\n",
    "                loss = self.crirerion(outputs, targets)\n",
    "                \n",
    "                self.optimizer.zero_grad()\n",
    "                loss.backward()\n",
    "                self.optimizer.step()\n",
    "\n",
    "                total_loss += loss.item() * len(targets)\n",
    "                total_sents += len(targets)\n",
    "                total_correct += self._calc_correct_num(outputs, targets)\n",
    "            \n",
    "            epoch_loss = total_loss / total_sents\n",
    "            epoch_acc = total_correct / total_sents\n",
    "            print(f'Epoch {epoch+1}')\n",
    "            print(f'Train --> Loss: {epoch_loss:.3f}, Acc: {epoch_acc:.3f}')\n",
    "            \n",
    "            model.eval()\n",
    "            total_loss = 0.0\n",
    "            total_sents, total_correct = 0, 0\n",
    "            with torch.no_grad():\n",
    "                for batch in valid_iter:\n",
    "                    inputs, lengths = batch.text\n",
    "                    targets = batch.label\n",
    "                    mask = (inputs != text_field.vocab.stoi['<pad>'])\n",
    "\n",
    "                    outputs = self.model(inputs, mask)\n",
    "                    loss = self.crirerion(outputs, targets)\n",
    "\n",
    "                    total_loss += loss.item() * len(targets)\n",
    "                    total_sents += len(targets)\n",
    "                    total_correct += self._calc_correct_num(outputs, targets)\n",
    "                \n",
    "            epoch_loss = total_loss / total_sents\n",
    "            epoch_acc = total_correct / total_sents\n",
    "            print(f'Valid --> Loss: {epoch_loss:.3f}, Acc: {epoch_acc:.3f}')\n",
    "        \n",
    "    def predict(self, test_iter):\n",
    "        model.eval()\n",
    "        total_loss = 0.0\n",
    "        total_sents, total_correct = 0, 0\n",
    "        with torch.no_grad():\n",
    "            for batch in test_iter:\n",
    "                inputs, lengths = batch.text\n",
    "                targets = batch.label\n",
    "                mask = (inputs != text_field.vocab.stoi['<pad>'])\n",
    "\n",
    "                outputs = self.model(inputs, mask)\n",
    "                loss = self.crirerion(outputs, targets)\n",
    "\n",
    "                total_loss += loss.item() * len(targets)\n",
    "                total_sents += len(targets)\n",
    "                total_correct += self._calc_correct_num(outputs, targets)\n",
    "\n",
    "        epoch_loss = total_loss / total_sents\n",
    "        epoch_acc = total_correct / total_sents\n",
    "        print(f'Test --> Loss: {epoch_loss:.3f}, Acc: {epoch_acc:.3f}')\n",
    "        \n",
    "        "
   ]
  },
  {
   "cell_type": "markdown",
   "metadata": {},
   "source": [
    "### 简单的Self-Attention模型训练"
   ]
  },
  {
   "cell_type": "code",
   "execution_count": 17,
   "metadata": {
    "scrolled": true
   },
   "outputs": [
    {
     "name": "stdout",
     "output_type": "stream",
     "text": [
      "Epoch 1\n",
      "Train --> Loss: 0.723, Acc: 0.613\n",
      "Valid --> Loss: 0.586, Acc: 0.692\n",
      "Epoch 2\n",
      "Train --> Loss: 0.560, Acc: 0.718\n",
      "Valid --> Loss: 0.528, Acc: 0.751\n",
      "Epoch 3\n",
      "Train --> Loss: 0.471, Acc: 0.781\n",
      "Valid --> Loss: 0.546, Acc: 0.769\n",
      "Epoch 4\n",
      "Train --> Loss: 0.418, Acc: 0.815\n",
      "Valid --> Loss: 0.527, Acc: 0.797\n",
      "Epoch 5\n",
      "Train --> Loss: 0.372, Acc: 0.842\n",
      "Valid --> Loss: 0.565, Acc: 0.804\n",
      "Epoch 6\n",
      "Train --> Loss: 0.342, Acc: 0.858\n",
      "Valid --> Loss: 0.610, Acc: 0.789\n",
      "Epoch 7\n",
      "Train --> Loss: 0.321, Acc: 0.869\n",
      "Valid --> Loss: 0.587, Acc: 0.805\n",
      "Epoch 8\n",
      "Train --> Loss: 0.301, Acc: 0.880\n",
      "Valid --> Loss: 0.628, Acc: 0.807\n",
      "Epoch 9\n",
      "Train --> Loss: 0.285, Acc: 0.885\n",
      "Valid --> Loss: 0.650, Acc: 0.808\n",
      "Epoch 10\n",
      "Train --> Loss: 0.275, Acc: 0.892\n",
      "Valid --> Loss: 0.643, Acc: 0.804\n",
      "Test --> Loss: 0.498, Acc: 0.824\n"
     ]
    }
   ],
   "source": [
    "model = SimpleSelfAttentionModel(\n",
    "    n_words=len(text_field.vocab),\n",
    "    n_embed=300,\n",
    "    p_drop=0.3,\n",
    "    pad_idx=text_field.vocab.stoi['<pad>'],\n",
    "    res_conn=False,\n",
    ")\n",
    "model.to(device)\n",
    "\n",
    "learner = TCLearner(model)\n",
    "learner.fit(train_iter, valid_iter, 10)\n",
    "learner.predict(test_iter)"
   ]
  },
  {
   "cell_type": "markdown",
   "metadata": {},
   "source": [
    "从上面的结果上来看，相对于Part1在测试集上已经有了一点点的提升"
   ]
  },
  {
   "cell_type": "markdown",
   "metadata": {},
   "source": [
    "### 简单的Transformer模型训练"
   ]
  },
  {
   "cell_type": "code",
   "execution_count": 144,
   "metadata": {
    "scrolled": true
   },
   "outputs": [
    {
     "name": "stdout",
     "output_type": "stream",
     "text": [
      "Epoch 1\n",
      "Train --> Loss: 0.633, Acc: 0.645\n",
      "Valid --> Loss: 0.616, Acc: 0.662\n",
      "Epoch 2\n",
      "Train --> Loss: 0.555, Acc: 0.721\n",
      "Valid --> Loss: 0.590, Acc: 0.682\n",
      "Epoch 3\n",
      "Train --> Loss: 0.491, Acc: 0.766\n",
      "Valid --> Loss: 0.566, Acc: 0.704\n",
      "Epoch 4\n",
      "Train --> Loss: 0.444, Acc: 0.793\n",
      "Valid --> Loss: 0.548, Acc: 0.716\n",
      "Epoch 5\n",
      "Train --> Loss: 0.402, Acc: 0.820\n",
      "Valid --> Loss: 0.522, Acc: 0.759\n",
      "Epoch 6\n",
      "Train --> Loss: 0.377, Acc: 0.831\n",
      "Valid --> Loss: 0.512, Acc: 0.758\n",
      "Epoch 7\n",
      "Train --> Loss: 0.349, Acc: 0.847\n",
      "Valid --> Loss: 0.525, Acc: 0.740\n",
      "Epoch 8\n",
      "Train --> Loss: 0.322, Acc: 0.860\n",
      "Valid --> Loss: 0.514, Acc: 0.744\n",
      "Epoch 9\n",
      "Train --> Loss: 0.307, Acc: 0.868\n",
      "Valid --> Loss: 0.505, Acc: 0.758\n",
      "Epoch 10\n",
      "Train --> Loss: 0.289, Acc: 0.877\n",
      "Valid --> Loss: 0.541, Acc: 0.740\n",
      "Epoch 11\n",
      "Train --> Loss: 0.275, Acc: 0.884\n",
      "Valid --> Loss: 0.532, Acc: 0.757\n",
      "Epoch 12\n",
      "Train --> Loss: 0.261, Acc: 0.891\n",
      "Valid --> Loss: 0.521, Acc: 0.763\n",
      "Epoch 13\n",
      "Train --> Loss: 0.255, Acc: 0.892\n",
      "Valid --> Loss: 0.523, Acc: 0.775\n",
      "Epoch 14\n",
      "Train --> Loss: 0.243, Acc: 0.899\n",
      "Valid --> Loss: 0.543, Acc: 0.756\n",
      "Epoch 15\n",
      "Train --> Loss: 0.233, Acc: 0.903\n",
      "Valid --> Loss: 0.489, Acc: 0.782\n",
      "Epoch 16\n",
      "Train --> Loss: 0.232, Acc: 0.903\n",
      "Valid --> Loss: 0.514, Acc: 0.769\n",
      "Epoch 17\n",
      "Train --> Loss: 0.227, Acc: 0.905\n",
      "Valid --> Loss: 0.536, Acc: 0.763\n",
      "Epoch 18\n",
      "Train --> Loss: 0.219, Acc: 0.908\n",
      "Valid --> Loss: 0.620, Acc: 0.721\n",
      "Epoch 19\n",
      "Train --> Loss: 0.214, Acc: 0.911\n",
      "Valid --> Loss: 0.505, Acc: 0.789\n",
      "Epoch 20\n",
      "Train --> Loss: 0.208, Acc: 0.913\n",
      "Valid --> Loss: 0.533, Acc: 0.760\n",
      "Epoch 21\n",
      "Train --> Loss: 0.202, Acc: 0.917\n",
      "Valid --> Loss: 0.620, Acc: 0.748\n",
      "Epoch 22\n",
      "Train --> Loss: 0.199, Acc: 0.917\n",
      "Valid --> Loss: 0.521, Acc: 0.774\n",
      "Epoch 23\n",
      "Train --> Loss: 0.196, Acc: 0.919\n",
      "Valid --> Loss: 0.535, Acc: 0.772\n",
      "Epoch 24\n",
      "Train --> Loss: 0.193, Acc: 0.921\n",
      "Valid --> Loss: 0.573, Acc: 0.744\n",
      "Epoch 25\n",
      "Train --> Loss: 0.188, Acc: 0.922\n",
      "Valid --> Loss: 0.548, Acc: 0.765\n",
      "Test --> Loss: 0.555, Acc: 0.757\n"
     ]
    }
   ],
   "source": [
    "model = SimpleTransformerModel(\n",
    "    n_words=len(text_field.vocab),\n",
    "    d_model=512,\n",
    "    n_heads=4,\n",
    "    p_drop=0.2,\n",
    "    use_pos=True\n",
    ")\n",
    "model.to(device)\n",
    "\n",
    "learner = TCLearner(model)\n",
    "learner.fit(train_iter, valid_iter, 25)\n",
    "learner.predict(test_iter)"
   ]
  },
  {
   "cell_type": "markdown",
   "metadata": {},
   "source": [
    "* 简单看一下结果，发现将模型更改的更为复杂后并未获得准确率的提升\n",
    "* 详细的对比结果，参见提交文档"
   ]
  },
  {
   "cell_type": "markdown",
   "metadata": {},
   "source": [
    "### 基于PyTorch的Transformer模型训练"
   ]
  },
  {
   "cell_type": "code",
   "execution_count": 179,
   "metadata": {
    "scrolled": true
   },
   "outputs": [
    {
     "name": "stdout",
     "output_type": "stream",
     "text": [
      "Epoch 1\n",
      "Train --> Loss: 0.625, Acc: 0.645\n",
      "Valid --> Loss: 0.536, Acc: 0.726\n",
      "Epoch 2\n",
      "Train --> Loss: 0.487, Acc: 0.764\n",
      "Valid --> Loss: 0.495, Acc: 0.781\n",
      "Epoch 3\n",
      "Train --> Loss: 0.393, Acc: 0.825\n",
      "Valid --> Loss: 0.478, Acc: 0.774\n",
      "Epoch 4\n",
      "Train --> Loss: 0.341, Acc: 0.852\n",
      "Valid --> Loss: 0.517, Acc: 0.792\n",
      "Epoch 5\n",
      "Train --> Loss: 0.306, Acc: 0.872\n",
      "Valid --> Loss: 0.535, Acc: 0.783\n",
      "Epoch 6\n",
      "Train --> Loss: 0.276, Acc: 0.886\n",
      "Valid --> Loss: 0.526, Acc: 0.794\n",
      "Epoch 7\n",
      "Train --> Loss: 0.252, Acc: 0.899\n",
      "Valid --> Loss: 0.518, Acc: 0.798\n",
      "Epoch 8\n",
      "Train --> Loss: 0.238, Acc: 0.905\n",
      "Valid --> Loss: 0.534, Acc: 0.807\n",
      "Epoch 9\n",
      "Train --> Loss: 0.224, Acc: 0.912\n",
      "Valid --> Loss: 0.502, Acc: 0.812\n",
      "Epoch 10\n",
      "Train --> Loss: 0.212, Acc: 0.917\n",
      "Valid --> Loss: 0.544, Acc: 0.805\n",
      "Epoch 11\n",
      "Train --> Loss: 0.200, Acc: 0.922\n",
      "Valid --> Loss: 0.574, Acc: 0.781\n",
      "Epoch 12\n",
      "Train --> Loss: 0.188, Acc: 0.928\n",
      "Valid --> Loss: 0.545, Acc: 0.805\n",
      "Epoch 13\n",
      "Train --> Loss: 0.183, Acc: 0.929\n",
      "Valid --> Loss: 0.596, Acc: 0.799\n",
      "Epoch 14\n",
      "Train --> Loss: 0.177, Acc: 0.931\n",
      "Valid --> Loss: 0.650, Acc: 0.799\n",
      "Epoch 15\n",
      "Train --> Loss: 0.170, Acc: 0.934\n",
      "Valid --> Loss: 0.647, Acc: 0.788\n",
      "Epoch 16\n",
      "Train --> Loss: 0.167, Acc: 0.936\n",
      "Valid --> Loss: 0.679, Acc: 0.779\n",
      "Epoch 17\n",
      "Train --> Loss: 0.158, Acc: 0.938\n",
      "Valid --> Loss: 0.710, Acc: 0.789\n",
      "Epoch 18\n",
      "Train --> Loss: 0.152, Acc: 0.942\n",
      "Valid --> Loss: 0.686, Acc: 0.782\n",
      "Epoch 19\n",
      "Train --> Loss: 0.149, Acc: 0.942\n",
      "Valid --> Loss: 0.601, Acc: 0.818\n",
      "Epoch 20\n",
      "Train --> Loss: 0.149, Acc: 0.942\n",
      "Valid --> Loss: 0.596, Acc: 0.805\n",
      "Epoch 21\n",
      "Train --> Loss: 0.144, Acc: 0.945\n",
      "Valid --> Loss: 0.663, Acc: 0.794\n",
      "Epoch 22\n",
      "Train --> Loss: 0.142, Acc: 0.946\n",
      "Valid --> Loss: 0.667, Acc: 0.797\n",
      "Epoch 23\n",
      "Train --> Loss: 0.136, Acc: 0.948\n",
      "Valid --> Loss: 0.662, Acc: 0.796\n",
      "Epoch 24\n",
      "Train --> Loss: 0.135, Acc: 0.949\n",
      "Valid --> Loss: 0.604, Acc: 0.804\n",
      "Epoch 25\n",
      "Train --> Loss: 0.132, Acc: 0.950\n",
      "Valid --> Loss: 0.627, Acc: 0.796\n",
      "Test --> Loss: 0.634, Acc: 0.791\n"
     ]
    }
   ],
   "source": [
    "model = PyTorchTransformerModel(\n",
    "    n_words=len(text_field.vocab),\n",
    "    d_model=256,\n",
    "    n_heads=4,\n",
    "    n_layers=2,\n",
    "    p_drop=0.2\n",
    ")\n",
    "model.to(device)\n",
    "\n",
    "learner = TCLearner(model)\n",
    "learner.fit(train_iter, valid_iter, 25)\n",
    "learner.predict(test_iter)"
   ]
  },
  {
   "cell_type": "markdown",
   "metadata": {},
   "source": [
    "* 简单的试了一下，似乎也不是太好，详细的实验参见完整代码和文档"
   ]
  },
  {
   "cell_type": "code",
   "execution_count": null,
   "metadata": {},
   "outputs": [],
   "source": []
  }
 ],
 "metadata": {
  "kernelspec": {
   "display_name": "Python 3",
   "language": "python",
   "name": "python3"
  },
  "language_info": {
   "codemirror_mode": {
    "name": "ipython",
    "version": 3
   },
   "file_extension": ".py",
   "mimetype": "text/x-python",
   "name": "python",
   "nbconvert_exporter": "python",
   "pygments_lexer": "ipython3",
   "version": "3.7.6"
  },
  "toc": {
   "base_numbering": 1,
   "nav_menu": {},
   "number_sections": true,
   "sideBar": true,
   "skip_h1_title": false,
   "title_cell": "Table of Contents",
   "title_sidebar": "Contents",
   "toc_cell": false,
   "toc_position": {},
   "toc_section_display": true,
   "toc_window_display": false
  }
 },
 "nbformat": 4,
 "nbformat_minor": 4
}
