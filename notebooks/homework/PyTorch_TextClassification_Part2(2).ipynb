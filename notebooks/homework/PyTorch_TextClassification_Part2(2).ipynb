{
 "cells": [
  {
   "cell_type": "markdown",
   "metadata": {},
   "source": [
    "# 作业二：文本分类 Part2（2）"
   ]
  },
  {
   "cell_type": "markdown",
   "metadata": {},
   "source": [
    "* 这部分作业，我们使用Transformers的预训练模型来看看效果"
   ]
  },
  {
   "cell_type": "code",
   "execution_count": 1,
   "metadata": {},
   "outputs": [],
   "source": [
    "import random\n",
    "from collections import defaultdict\n",
    "from pathlib import Path\n",
    "\n",
    "import numpy as np\n",
    "import pandas as pd\n",
    "import torch\n",
    "import torch.nn as nn\n",
    "import torchtext\n",
    "import pytorch_lightning as pl\n",
    "import transformers\n",
    "from transformers import (\n",
    "    DataProcessor,\n",
    "    InputExample,\n",
    "    BertForSequenceClassification, \n",
    "    BertTokenizer,\n",
    "    glue_convert_examples_to_features,\n",
    ")\n",
    "\n",
    "\n",
    "def set_random_seed(seed):\n",
    "    random.seed(seed)\n",
    "    np.random.seed(seed)\n",
    "    torch.manual_seed(seed)\n",
    "    torch.cuda.manual_seed(seed)\n",
    "    torch.cuda.manual_seed_all(seed)\n",
    "    torch.backends.cudnn.benchmark = False\n",
    "    torch.backends.cudnn.deterministic = True\n",
    "\n",
    "set_random_seed(2020)\n",
    "device = torch.device('cuda:0' if torch.cuda.is_available else 'cpu')"
   ]
  },
  {
   "cell_type": "markdown",
   "metadata": {},
   "source": [
    "**设定计算设备与数据集路径**"
   ]
  },
  {
   "cell_type": "code",
   "execution_count": 2,
   "metadata": {},
   "outputs": [
    {
     "name": "stdout",
     "output_type": "stream",
     "text": [
      "PyTorch Version: 1.4.0\n",
      "PyTorch Lightning Version: 0.7.1\n",
      "Transformers Version: 2.7.0\n",
      "------------------------------------------------------------\n",
      "Data Path: /media/bnu/data/nlp-practice/sentiment-analysis/standford-sentiment-treebank\n",
      "Model Path: /media/bnu/data/nlp-practice/transformers\n",
      "------------------------------------------------------------\n",
      "CUDA Device Count: 2\n",
      "CUDA Device Name:\n",
      "\t GeForce RTX 2080 Ti\n",
      "\t GeForce RTX 2080 Ti\n",
      "CUDA Current Device Index: 0\n",
      "------------------------------------------------------------\n"
     ]
    }
   ],
   "source": [
    "device = torch.device('cuda' if torch.cuda.is_available else 'cpu')\n",
    "data_path = Path('/media/bnu/data/nlp-practice/sentiment-analysis/standford-sentiment-treebank')\n",
    "model_path = Path('/media/bnu/data/nlp-practice/transformers')\n",
    "\n",
    "print('PyTorch Version:', torch.__version__)\n",
    "print('PyTorch Lightning Version:', pl.__version__)\n",
    "print('Transformers Version:', transformers.__version__)\n",
    "print('-' * 60)\n",
    "print('Data Path:', data_path)\n",
    "print('Model Path:', model_path)\n",
    "print('-' * 60)\n",
    "\n",
    "if torch.cuda.is_available():\n",
    "    print('CUDA Device Count:', torch.cuda.device_count())\n",
    "    print('CUDA Device Name:')\n",
    "    for i in range(torch.cuda.device_count()):\n",
    "        print('\\t', torch.cuda.get_device_name(i))\n",
    "    print('CUDA Current Device Index:', torch.cuda.current_device())\n",
    "    print('-' * 60)"
   ]
  },
  {
   "cell_type": "markdown",
   "metadata": {},
   "source": [
    "## 数据准备"
   ]
  },
  {
   "cell_type": "markdown",
   "metadata": {},
   "source": [
    "### 获取数据"
   ]
  },
  {
   "cell_type": "markdown",
   "metadata": {},
   "source": [
    "* 我们首先通过`pandas`查看一下SST数据集"
   ]
  },
  {
   "cell_type": "code",
   "execution_count": 3,
   "metadata": {},
   "outputs": [
    {
     "data": {
      "text/html": [
       "<div>\n",
       "<style scoped>\n",
       "    .dataframe tbody tr th:only-of-type {\n",
       "        vertical-align: middle;\n",
       "    }\n",
       "\n",
       "    .dataframe tbody tr th {\n",
       "        vertical-align: top;\n",
       "    }\n",
       "\n",
       "    .dataframe thead th {\n",
       "        text-align: right;\n",
       "    }\n",
       "</style>\n",
       "<table border=\"1\" class=\"dataframe\">\n",
       "  <thead>\n",
       "    <tr style=\"text-align: right;\">\n",
       "      <th></th>\n",
       "      <th>0</th>\n",
       "      <th>1</th>\n",
       "    </tr>\n",
       "  </thead>\n",
       "  <tbody>\n",
       "    <tr>\n",
       "      <th>0</th>\n",
       "      <td>hide new secretions from the parental units</td>\n",
       "      <td>0</td>\n",
       "    </tr>\n",
       "    <tr>\n",
       "      <th>1</th>\n",
       "      <td>contains no wit , only labored gags</td>\n",
       "      <td>0</td>\n",
       "    </tr>\n",
       "    <tr>\n",
       "      <th>2</th>\n",
       "      <td>that loves its characters and communicates som...</td>\n",
       "      <td>1</td>\n",
       "    </tr>\n",
       "    <tr>\n",
       "      <th>3</th>\n",
       "      <td>remains utterly satisfied to remain the same t...</td>\n",
       "      <td>0</td>\n",
       "    </tr>\n",
       "    <tr>\n",
       "      <th>4</th>\n",
       "      <td>on the worst revenge-of-the-nerds clichés the ...</td>\n",
       "      <td>0</td>\n",
       "    </tr>\n",
       "  </tbody>\n",
       "</table>\n",
       "</div>"
      ],
      "text/plain": [
       "                                                   0  1\n",
       "0        hide new secretions from the parental units  0\n",
       "1                contains no wit , only labored gags  0\n",
       "2  that loves its characters and communicates som...  1\n",
       "3  remains utterly satisfied to remain the same t...  0\n",
       "4  on the worst revenge-of-the-nerds clichés the ...  0"
      ]
     },
     "execution_count": 3,
     "metadata": {},
     "output_type": "execute_result"
    }
   ],
   "source": [
    "train_data = pd.read_csv(data_path / 'senti.train.tsv', header=None, delimiter='\\t')\n",
    "valid_data = pd.read_csv(data_path / 'senti.dev.tsv', header=None, delimiter='\\t')\n",
    "test_data = pd.read_csv(data_path / 'senti.test.tsv', header=None, delimiter='\\t')\n",
    "\n",
    "train_data.head()    "
   ]
  },
  {
   "cell_type": "code",
   "execution_count": 4,
   "metadata": {},
   "outputs": [
    {
     "name": "stdout",
     "output_type": "stream",
     "text": [
      "Train Size: 67349\n",
      "Valid Size: 872\n",
      "Test Size: 1821\n"
     ]
    }
   ],
   "source": [
    "print('Train Size:', len(train_data))\n",
    "print('Valid Size:', len(valid_data))\n",
    "print('Test Size:', len(test_data))"
   ]
  },
  {
   "cell_type": "markdown",
   "metadata": {},
   "source": [
    "### 数据处理"
   ]
  },
  {
   "cell_type": "markdown",
   "metadata": {},
   "source": [
    "* 首先我们参考`glue.py`文件中的内容自定义`DataProcessor`"
   ]
  },
  {
   "cell_type": "code",
   "execution_count": 5,
   "metadata": {},
   "outputs": [],
   "source": [
    "class SstProcessor(DataProcessor):\n",
    "    \n",
    "    def get_train_examples(self, data_dir):\n",
    "        return self._create_examples(\n",
    "            self._read_tsv(data_dir / 'senti.train.tsv'),\n",
    "            set_type='train',\n",
    "        )\n",
    "    \n",
    "    def get_dev_examples(self, data_dir):\n",
    "        return self._create_examples(\n",
    "            self._read_tsv(data_dir / 'senti.dev.tsv'),\n",
    "            set_type='valid',\n",
    "        )\n",
    "    \n",
    "    def get_test_examples(self, data_dir):\n",
    "        return self._create_examples(\n",
    "            self._read_tsv(data_dir / 'senti.test.tsv'),\n",
    "            set_type='test'\n",
    "        )\n",
    "    \n",
    "    def get_labels(self):\n",
    "        return ['0', '1']\n",
    "    \n",
    "    def _create_examples(self, lines, set_type):\n",
    "        examples = []\n",
    "        for i, line in enumerate(lines):\n",
    "            guid = f'{set_type}-{i}'  # 样本的唯一编号\n",
    "            text_a = line[0]  # 预训练模型中的第一句话，因为是分类问题不需要第二句话\n",
    "            label = line[1]  # 样本标签\n",
    "            examples.append(InputExample(\n",
    "                guid=guid,\n",
    "                text_a=text_a,\n",
    "                text_b=None,\n",
    "                label=label,\n",
    "            ))\n",
    "        return examples"
   ]
  },
  {
   "cell_type": "markdown",
   "metadata": {},
   "source": [
    "**简单测试**"
   ]
  },
  {
   "cell_type": "code",
   "execution_count": 6,
   "metadata": {},
   "outputs": [
    {
     "name": "stdout",
     "output_type": "stream",
     "text": [
      "Train: 67349\n",
      "InputExample(guid='train-10', text_a='goes to absurd lengths', text_b=None, label='0')\n",
      "Valid: 872\n",
      "InputExample(guid='valid-10', text_a='The mesmerizing performances of the leads keep the film grounded and keep the audience riveted .', text_b=None, label='1')\n",
      "Test: 1821\n",
      "InputExample(guid='test-10', text_a=\"It 's also heavy-handed and devotes too much time to bigoted views .\", text_b=None, label='0')\n"
     ]
    }
   ],
   "source": [
    "processor = SstProcessor()\n",
    "examples = processor.get_train_examples(data_path)\n",
    "print('Train:', len(examples))\n",
    "print(examples[10])\n",
    "examples = processor.get_dev_examples(data_path)\n",
    "print('Valid:', len(examples))\n",
    "print(examples[10])\n",
    "examples = processor.get_test_examples(data_path)\n",
    "print('Test:', len(examples))\n",
    "print(examples[10])"
   ]
  },
  {
   "cell_type": "markdown",
   "metadata": {},
   "source": [
    "* 接下来我们要构建模型所需的`DataLoader`"
   ]
  },
  {
   "cell_type": "code",
   "execution_count": 7,
   "metadata": {},
   "outputs": [],
   "source": [
    "def generate_dataloaders(tokenizer):\n",
    "    \n",
    "    def generate_dataloader_inner(examples):\n",
    "        features = glue_convert_examples_to_features(\n",
    "            train_examples,\n",
    "            tokenizer,\n",
    "            label_list=['0', '1'],\n",
    "            max_length=128,\n",
    "            output_mode='classification',\n",
    "            pad_on_left=False,\n",
    "            pad_token=tokenizer.pad_token_id,\n",
    "            pad_token_segment_id=0)\n",
    "        \n",
    "        dataset = torch.utils.data.TensorDataset(\n",
    "            torch.LongTensor([f.input_ids for f in features]),\n",
    "            torch.LongTensor([f.attention_mask for f in features]),\n",
    "            torch.LongTensor([f.token_type_ids for f in features]),\n",
    "            torch.LongTensor([f.label for f in features])\n",
    "        )\n",
    "        \n",
    "        sampler = torch.utils.data.RandomSampler(dataset)\n",
    "        dataloader = torch.utils.data.DataLoader(\n",
    "            dataset, sampler=sampler, batch_size=32\n",
    "        )\n",
    "        return dataloader\n",
    "    \n",
    "    # 训练数据\n",
    "    train_examples = processor.get_train_examples(data_path)\n",
    "    train_loader = generate_dataloader_inner(train_examples)\n",
    "    \n",
    "    # 验证数据\n",
    "    valid_examples = processor.get_dev_examples(data_path)\n",
    "    valid_loader = generate_dataloader_inner(valid_examples)\n",
    "    \n",
    "    # 测试数据\n",
    "    test_examples = processor.get_test_examples(data_path)\n",
    "    test_loader = generate_dataloader_inner(test_examples)\n",
    "    \n",
    "    return train_loader, valid_loader, test_loader"
   ]
  },
  {
   "cell_type": "markdown",
   "metadata": {},
   "source": [
    "**简单测试**"
   ]
  },
  {
   "cell_type": "code",
   "execution_count": 8,
   "metadata": {},
   "outputs": [
    {
     "name": "stderr",
     "output_type": "stream",
     "text": [
      "Calling BertTokenizer.from_pretrained() with the path to a single file or url is deprecated\n"
     ]
    },
    {
     "name": "stdout",
     "output_type": "stream",
     "text": [
      "Input Ids: torch.Size([32, 128])\n",
      "Attn Mask: torch.Size([32, 128])\n",
      "Token Type Ids: torch.Size([32, 128])\n",
      "Label: torch.Size([32])\n"
     ]
    }
   ],
   "source": [
    "tokenizer = BertTokenizer.from_pretrained(\n",
    "    model_path / 'bert-base-uncased' / 'bert-base-uncased-vocab.txt'\n",
    ")\n",
    "train_loader, valid_loader, test_loader = generate_dataloaders(tokenizer)\n",
    "\n",
    "for batch in train_loader:\n",
    "    input_ids, attention_mask, token_type_ids, label = batch\n",
    "    print('Input Ids:', input_ids.shape)\n",
    "    print('Attn Mask:', attention_mask.shape)\n",
    "    print('Token Type Ids:', token_type_ids.shape)\n",
    "    print('Label:', label.shape)\n",
    "    break"
   ]
  },
  {
   "cell_type": "code",
   "execution_count": 9,
   "metadata": {},
   "outputs": [
    {
     "name": "stdout",
     "output_type": "stream",
     "text": [
      "Batch Size: 32\n",
      "Outputs: torch.Size([32, 2])\n"
     ]
    }
   ],
   "source": [
    "ptm = BertForSequenceClassification.from_pretrained(\n",
    "    model_path / 'bert-base-uncased' / 'bert-base-uncased-pytorch_model.bin',\n",
    "    config = model_path / 'bert-base-uncased' / 'bert-base-uncased-config.json'\n",
    ")\n",
    "\n",
    "for batch in train_loader:\n",
    "    input_ids, attention_mask, token_type_ids, label = batch\n",
    "    outputs = ptm(input_ids, \n",
    "                  token_type_ids=token_type_ids, \n",
    "                  attention_mask=attention_mask)[0]\n",
    "    print('Batch Size:', len(label))\n",
    "    print('Outputs:', outputs.shape)\n",
    "    break"
   ]
  },
  {
   "cell_type": "markdown",
   "metadata": {},
   "source": [
    "## 定义模型"
   ]
  },
  {
   "cell_type": "markdown",
   "metadata": {},
   "source": [
    "* 为了减少大量训练代码的编写量，这次使用了Pytorch-Lightning库对结构进行简化"
   ]
  },
  {
   "cell_type": "code",
   "execution_count": 10,
   "metadata": {},
   "outputs": [],
   "source": [
    "class SstPreTrainedModel(pl.LightningModule):\n",
    "    \n",
    "    def __init__(self):\n",
    "        super(SstPreTrainedModel, self).__init__()\n",
    "        # 预训练模型\n",
    "        self.ptm = ptm\n",
    "        # 损失函数\n",
    "        self.criterion = nn.CrossEntropyLoss()\n",
    "\n",
    "    def forward(self, input_ids, attention_mask, token_type_ids):\n",
    "        return self.ptm(\n",
    "            input_ids=input_ids, \n",
    "            attention_mask=attention_mask, \n",
    "            token_type_ids=token_type_ids\n",
    "        )[0]\n",
    "    \n",
    "    def training_step(self, batch, batch_idx):\n",
    "        input_ids, attention_mask, token_type_ids, label = batch\n",
    "        out = self(input_ids, attention_mask, token_type_ids)\n",
    "        \n",
    "        loss = self.criterion(out, label)\n",
    "        \n",
    "        _, pred = torch.max(out, dim=1)\n",
    "        acc = (pred == label).float().mean()\n",
    "        \n",
    "        tensorboard_logs = {'train_loss': loss, 'train_acc': acc}\n",
    "        return {'loss': loss, 'log': tensorboard_logs}\n",
    "    \n",
    "    def validation_step(self, batch, batch_idx):\n",
    "        input_ids, attention_mask, token_type_ids, label = batch\n",
    "        out = self(input_ids, attention_mask, token_type_ids)\n",
    "        \n",
    "        loss = self.criterion(out, label)\n",
    "        \n",
    "        _, pred = torch.max(out, dim=1)\n",
    "        acc = (pred == label).float().mean()\n",
    "        \n",
    "        return {'val_loss': loss, 'val_acc': acc}\n",
    "        \n",
    "    def validation_epoch_end(self, outputs):\n",
    "        val_loss = torch.stack([x['val_loss'] for x in outputs]).mean()\n",
    "        val_acc = torch.stack([x['val_acc'] for x in outputs]).mean()\n",
    "        \n",
    "        tensorboard_logs = {'val_loss': val_loss, 'val_acc': val_acc}\n",
    "        return {'val_loss': val_loss, 'log': tensorboard_logs, 'progress_bar': tensorboard_logs}\n",
    "        \n",
    "    def test_step(self, batch, batch_idx):\n",
    "        input_ids, attention_mask, token_type_ids, label = batch\n",
    "        out = self(input_ids, attention_mask, token_type_ids)\n",
    "        \n",
    "        _, pred = torch.max(out, dim=1)\n",
    "        acc = (pred == label).float().mean()\n",
    "        \n",
    "        return {'test_acc': acc}\n",
    "        \n",
    "    def test_epoch_end(self, outputs):\n",
    "        test_acc = torch.stack([x['test_acc'] for x in outputs]).mean()\n",
    "        \n",
    "        tensorboard_logs = {'test_acc': test_acc}\n",
    "        return {'test_acc': test_acc, 'log': tensorboard_logs, 'progress_bar': tensorboard_logs}\n",
    "        \n",
    "    \n",
    "    def configure_optimizers(self):\n",
    "        return torch.optim.Adam([p for p in self.parameters() if p.requires_grad], lr=2e-5, eps=1e-8)\n",
    "\n",
    "    def train_dataloader(self):\n",
    "        return train_loader\n",
    "    \n",
    "    def val_dataloader(self):\n",
    "        return valid_loader\n",
    "    \n",
    "    def test_dataloader(self):\n",
    "        return test_loader\n",
    "        "
   ]
  },
  {
   "cell_type": "code",
   "execution_count": 11,
   "metadata": {},
   "outputs": [
    {
     "data": {
      "application/vnd.jupyter.widget-view+json": {
       "model_id": "",
       "version_major": 2,
       "version_minor": 0
      },
      "text/plain": [
       "HBox(children=(FloatProgress(value=0.0, description='Validation sanity check', layout=Layout(flex='2'), max=5.…"
      ]
     },
     "metadata": {},
     "output_type": "display_data"
    },
    {
     "name": "stdout",
     "output_type": "stream",
     "text": [
      "\r"
     ]
    },
    {
     "data": {
      "application/vnd.jupyter.widget-view+json": {
       "model_id": "422ef10a1355401f812858e50942e3c1",
       "version_major": 2,
       "version_minor": 0
      },
      "text/plain": [
       "HBox(children=(FloatProgress(value=1.0, bar_style='info', layout=Layout(flex='2'), max=1.0), HTML(value='')), …"
      ]
     },
     "metadata": {},
     "output_type": "display_data"
    },
    {
     "data": {
      "application/vnd.jupyter.widget-view+json": {
       "model_id": "",
       "version_major": 2,
       "version_minor": 0
      },
      "text/plain": [
       "HBox(children=(FloatProgress(value=0.0, description='Validating', layout=Layout(flex='2'), max=2105.0, style=P…"
      ]
     },
     "metadata": {},
     "output_type": "display_data"
    },
    {
     "name": "stdout",
     "output_type": "stream",
     "text": [
      "\n"
     ]
    },
    {
     "data": {
      "text/plain": [
       "1"
      ]
     },
     "execution_count": 11,
     "metadata": {},
     "output_type": "execute_result"
    }
   ],
   "source": [
    "torch.cuda.empty_cache()\n",
    "model = SstPreTrainedModel()\n",
    "trainer = pl.Trainer(\n",
    "    max_epochs=1,\n",
    "    gpus=1,\n",
    "#     gpus=2,\n",
    "#     distributed_backend='dp',\n",
    "    default_save_path='/media/bnu/data/pytorch-lightning-checkpoints/'\n",
    ")\n",
    "trainer.fit(model)"
   ]
  },
  {
   "cell_type": "code",
   "execution_count": 12,
   "metadata": {},
   "outputs": [
    {
     "data": {
      "application/vnd.jupyter.widget-view+json": {
       "model_id": "6219fe193d91447f949ad34221a1d9cd",
       "version_major": 2,
       "version_minor": 0
      },
      "text/plain": [
       "HBox(children=(FloatProgress(value=0.0, description='Testing', layout=Layout(flex='2'), max=2105.0, style=Prog…"
      ]
     },
     "metadata": {},
     "output_type": "display_data"
    },
    {
     "name": "stdout",
     "output_type": "stream",
     "text": [
      "----------------------------------------------------------------------------------------------------\n",
      "TEST RESULTS\n",
      "{'test_acc': tensor(0.9723, device='cuda:0')}\n",
      "----------------------------------------------------------------------------------------------------\n",
      "\n"
     ]
    }
   ],
   "source": [
    "trainer.test(model)"
   ]
  },
  {
   "cell_type": "markdown",
   "metadata": {},
   "source": [
    "可以看到在测试集当中已经能达到97%以上的准确率了"
   ]
  },
  {
   "cell_type": "code",
   "execution_count": 13,
   "metadata": {},
   "outputs": [
    {
     "data": {
      "text/plain": [
       "Reusing TensorBoard on port 6007 (pid 4257), started 0:36:59 ago. (Use '!kill 4257' to kill it.)"
      ]
     },
     "metadata": {},
     "output_type": "display_data"
    },
    {
     "data": {
      "text/html": [
       "\n",
       "      <iframe id=\"tensorboard-frame-9e96f7509ea2a536\" width=\"100%\" height=\"800\" frameborder=\"0\">\n",
       "      </iframe>\n",
       "      <script>\n",
       "        (function() {\n",
       "          const frame = document.getElementById(\"tensorboard-frame-9e96f7509ea2a536\");\n",
       "          const url = new URL(\"/\", window.location);\n",
       "          url.port = 6007;\n",
       "          frame.src = url;\n",
       "        })();\n",
       "      </script>\n",
       "  "
      ],
      "text/plain": [
       "<IPython.core.display.HTML object>"
      ]
     },
     "metadata": {},
     "output_type": "display_data"
    }
   ],
   "source": [
    "%load_ext tensorboard\n",
    "%tensorboard --logdir /media/bnu/data/pytorch-lightning-checkpoints/lightning_logs"
   ]
  },
  {
   "cell_type": "code",
   "execution_count": null,
   "metadata": {},
   "outputs": [],
   "source": []
  }
 ],
 "metadata": {
  "kernelspec": {
   "display_name": "Python 3",
   "language": "python",
   "name": "python3"
  },
  "language_info": {
   "codemirror_mode": {
    "name": "ipython",
    "version": 3
   },
   "file_extension": ".py",
   "mimetype": "text/x-python",
   "name": "python",
   "nbconvert_exporter": "python",
   "pygments_lexer": "ipython3",
   "version": "3.7.6"
  },
  "toc": {
   "base_numbering": 1,
   "nav_menu": {},
   "number_sections": true,
   "sideBar": true,
   "skip_h1_title": false,
   "title_cell": "Table of Contents",
   "title_sidebar": "Contents",
   "toc_cell": false,
   "toc_position": {},
   "toc_section_display": true,
   "toc_window_display": false
  }
 },
 "nbformat": 4,
 "nbformat_minor": 4
}
